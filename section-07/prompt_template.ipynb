{
 "cells": [
  {
   "cell_type": "code",
   "execution_count": 2,
   "metadata": {},
   "outputs": [
    {
     "name": "stdout",
     "output_type": "stream",
     "text": [
      "It's all right!\n"
     ]
    }
   ],
   "source": [
    "from langchain import PromptTemplate\n",
    "from langchain.chains import LLMChain\n",
    "from functions import set_env_variables, instantiate_llm\n",
    "\n",
    "set_env_variables()"
   ]
  },
  {
   "cell_type": "code",
   "execution_count": 3,
   "metadata": {},
   "outputs": [],
   "source": [
    "llm = instantiate_llm(model_name=\"gpt-3.5-turbo\")"
   ]
  },
  {
   "cell_type": "code",
   "execution_count": 4,
   "metadata": {},
   "outputs": [],
   "source": [
    "with open('./source_text.txt') as f:\n",
    "    source_text = f.read()"
   ]
  },
  {
   "cell_type": "code",
   "execution_count": 5,
   "metadata": {},
   "outputs": [],
   "source": [
    "template = \"\"\"\n",
    "    Write a concise and short summary of the following text:\n",
    "    TEXT: `{text}`\n",
    "    Translate the summary to {language}.\n",
    "\"\"\"\n",
    "\n",
    "prompt = PromptTemplate(\n",
    "    input_variables=[\"text\", \"language\"],\n",
    "    template=template\n",
    ")"
   ]
  },
  {
   "cell_type": "code",
   "execution_count": 6,
   "metadata": {},
   "outputs": [
    {
     "data": {
      "text/plain": [
       "238"
      ]
     },
     "execution_count": 6,
     "metadata": {},
     "output_type": "execute_result"
    }
   ],
   "source": [
    "llm.get_num_tokens(prompt.format(text=source_text, language='English'))"
   ]
  },
  {
   "cell_type": "code",
   "execution_count": 7,
   "metadata": {},
   "outputs": [
    {
     "name": "stdout",
     "output_type": "stream",
     "text": [
      "La locura se define como \"hacer lo mismo una y otra vez y esperar resultados diferentes\". Aunque los lexicógrafos podrían preferir usar frases ingeniosas en lugar de definiciones precisas, su trabajo no incluye ese tipo de labores literarias. El término \"locura\" ha sido utilizado en inglés desde el siglo XVI, inicialmente con el significado literal de \"estar mentalmente trastornado\". En el siglo XIX adquirió un sentido más amplio de \"extrema locura o irracionalidad\". En el uso moderno, \"locura\" puede encontrarse en ambos sentidos: se puede decir que intentar hacer skate agarrado a un coche es \"locura\" (en el sentido de ser extremadamente tonto) o se puede encontrar el significado original más estricto en contextos como la defensa por locura.\n"
     ]
    }
   ],
   "source": [
    "chain = LLMChain(llm=llm, prompt=prompt)\n",
    "summary = chain.run({'text': source_text, 'language':'spanish'})\n",
    "\n",
    "print(summary)"
   ]
  }
 ],
 "metadata": {
  "kernelspec": {
   "display_name": "env_llm_apps",
   "language": "python",
   "name": "python3"
  },
  "language_info": {
   "codemirror_mode": {
    "name": "ipython",
    "version": 3
   },
   "file_extension": ".py",
   "mimetype": "text/x-python",
   "name": "python",
   "nbconvert_exporter": "python",
   "pygments_lexer": "ipython3",
   "version": "3.10.13"
  }
 },
 "nbformat": 4,
 "nbformat_minor": 2
}
