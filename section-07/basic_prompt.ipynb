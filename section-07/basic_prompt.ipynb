{
 "cells": [
  {
   "cell_type": "markdown",
   "metadata": {},
   "source": [
    "## Summarization"
   ]
  },
  {
   "cell_type": "code",
   "execution_count": 2,
   "metadata": {},
   "outputs": [
    {
     "data": {
      "text/plain": [
       "True"
      ]
     },
     "execution_count": 2,
     "metadata": {},
     "output_type": "execute_result"
    }
   ],
   "source": [
    "import os\n",
    "from dotenv import load_dotenv, find_dotenv\n",
    "load_dotenv(find_dotenv(), override=True)"
   ]
  },
  {
   "cell_type": "code",
   "execution_count": 3,
   "metadata": {},
   "outputs": [],
   "source": [
    "from langchain.chat_models import ChatOpenAI\n",
    "from langchain.schema import (\n",
    "    AIMessage,\n",
    "    HumanMessage,\n",
    "    SystemMessage\n",
    ")"
   ]
  },
  {
   "cell_type": "code",
   "execution_count": 4,
   "metadata": {},
   "outputs": [],
   "source": [
    "source_text = \"\"\"\n",
    "An oft-quoted bon mot (frequently attributed to Albert Einstein, Benjamin Franklin, or a number of other people who probably never said it) is that insanity may be defined as “doing the same thing over and over and expecting different results.” While the job of lexicographers might be easier if they were allowed to use witty sayings instead of precise definitions, such belletristic labors are not within their purview. The straight facts about insanity are these: it has been in use in English since the late 16th century, for the first two hundred years or so carrying only the literal meaning “the condition of being mentally deranged.” In the 19th century it began to take on a looser sense, “extreme folly or unreasonableness.” In modern usage, insanity may be found in both senses: you may tell your brother that trying to skateboard while holding onto a car is \"insanity\" (in which case you mean that it is extremely foolish) or encounter the stricter original meaning in such contexts as insanity plea.\n",
    "\"\"\"\n",
    "\n",
    "messages = [\n",
    "    SystemMessage(content=\"You are an expert copywriter with expertize in summarizing text.\"),\n",
    "    HumanMessage(content=f\"Please provide a short and concise summary of the following text:\\, TEXT: {source_text}\")\n",
    "]\n",
    "\n",
    "llm = ChatOpenAI(temperature=0, model_name=\"gpt-3.5-turbo\")"
   ]
  },
  {
   "cell_type": "code",
   "execution_count": 5,
   "metadata": {},
   "outputs": [
    {
     "data": {
      "text/plain": [
       "214"
      ]
     },
     "execution_count": 5,
     "metadata": {},
     "output_type": "execute_result"
    }
   ],
   "source": [
    "llm.get_num_tokens(source_text)"
   ]
  },
  {
   "cell_type": "code",
   "execution_count": 6,
   "metadata": {},
   "outputs": [
    {
     "name": "stdout",
     "output_type": "stream",
     "text": [
      "Insanity, often misattributed to Einstein or Franklin, is defined as \"doing the same thing over and over and expecting different results.\" In English, it has been used since the late 16th century to mean \"the condition of being mentally deranged.\" In the 19th century, it also took on the sense of \"extreme folly or unreasonableness.\" Today, it can be used in both senses, such as describing a foolish act or in the context of an insanity plea.\n"
     ]
    }
   ],
   "source": [
    "output = llm(messages)\n",
    "print(output.content)"
   ]
  }
 ],
 "metadata": {
  "kernelspec": {
   "display_name": "env_llm_apps",
   "language": "python",
   "name": "python3"
  },
  "language_info": {
   "codemirror_mode": {
    "name": "ipython",
    "version": 3
   },
   "file_extension": ".py",
   "mimetype": "text/x-python",
   "name": "python",
   "nbconvert_exporter": "python",
   "pygments_lexer": "ipython3",
   "version": "3.10.13"
  }
 },
 "nbformat": 4,
 "nbformat_minor": 2
}
