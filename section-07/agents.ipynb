{
 "cells": [
  {
   "cell_type": "code",
   "execution_count": 3,
   "metadata": {},
   "outputs": [
    {
     "name": "stdout",
     "output_type": "stream",
     "text": [
      "It's all right!\n"
     ]
    }
   ],
   "source": [
    "from langchain.chat_models import ChatOpenAI\n",
    "from langchain.agents import initialize_agent, Tool\n",
    "from langchain.utilities import WikipediaAPIWrapper\n",
    "\n",
    "from packages.functions import set_env_variables, instantiate_llm\n",
    "\n",
    "set_env_variables()"
   ]
  },
  {
   "cell_type": "code",
   "execution_count": 4,
   "metadata": {},
   "outputs": [],
   "source": [
    "llm = instantiate_llm(model_name=\"gpt-3.5-turbo\")\n",
    "wikipedia = WikipediaAPIWrapper()"
   ]
  },
  {
   "cell_type": "code",
   "execution_count": 5,
   "metadata": {},
   "outputs": [],
   "source": [
    "tools = [\n",
    "    Tool(\n",
    "        name='Wikipedia',\n",
    "        func=wikipedia.run,\n",
    "        description='Useful for when you need to get information from wikipedia about a topic'\n",
    "    )\n",
    "]"
   ]
  },
  {
   "cell_type": "code",
   "execution_count": 9,
   "metadata": {},
   "outputs": [],
   "source": [
    "agent = initialize_agent(\n",
    "    tools=tools,\n",
    "    llm=llm,\n",
    "    agent='zero-shot-react-description',\n",
    "    verbose=False\n",
    ")\n",
    "\n",
    "output = agent.run('Can you please provide a short summary of World War I?')"
   ]
  },
  {
   "cell_type": "code",
   "execution_count": 10,
   "metadata": {},
   "outputs": [
    {
     "name": "stdout",
     "output_type": "stream",
     "text": [
      "World War I was a global conflict fought between the Allied Powers and the Central Powers from 1914 to 1918. It resulted in an estimated 9 million soldiers dead and 23 million wounded, plus another 5 million civilian deaths. The war was triggered by the assassination of Archduke Franz Ferdinand and involved multiple fronts and countries. The United States entered the war in 1917, and the Bolsheviks seized power in Russia in 1917, leading to peace with the Central Powers. The war ended with the Armistice of 11 November 1918 and led to the dissolution of several empires and the creation of new independent states. The causes of the war are complex and include political, territorial, economic, and imperialistic factors, as well as a breakdown of the European balance of power.\n"
     ]
    }
   ],
   "source": [
    "print(output)"
   ]
  },
  {
   "cell_type": "markdown",
   "metadata": {},
   "source": [
    "World War I was a global conflict fought between the Allied Powers and the Central Powers from 1914 to 1918. It resulted in an estimated 9 million soldiers dead and 23 million wounded, plus another 5 million civilian deaths. The war was triggered by the assassination of Archduke Franz Ferdinand and involved multiple fronts and countries. The United States entered the war in 1917, and the Bolsheviks seized power in Russia in 1917, leading to peace with the Central Powers. The war ended with the Armistice of 11 November 1918 and led to the dissolution of several empires and the creation of new independent states. The causes of the war are complex and include political, territorial, economic, and imperialistic factors, as well as a breakdown of the European balance of power."
   ]
  }
 ],
 "metadata": {
  "kernelspec": {
   "display_name": "env_llm_apps",
   "language": "python",
   "name": "python3"
  },
  "language_info": {
   "codemirror_mode": {
    "name": "ipython",
    "version": 3
   },
   "file_extension": ".py",
   "mimetype": "text/x-python",
   "name": "python",
   "nbconvert_exporter": "python",
   "pygments_lexer": "ipython3",
   "version": "3.10.13"
  }
 },
 "nbformat": 4,
 "nbformat_minor": 2
}
