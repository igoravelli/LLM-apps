{
 "cells": [
  {
   "cell_type": "code",
   "execution_count": 7,
   "metadata": {},
   "outputs": [
    {
     "name": "stdout",
     "output_type": "stream",
     "text": [
      "It's all right!\n"
     ]
    }
   ],
   "source": [
    "from langchain import PromptTemplate\n",
    "from langchain.chat_models import ChatOpenAI\n",
    "from langchain.chains.summarize import load_summarize_chain\n",
    "from langchain.text_splitter import RecursiveCharacterTextSplitter\n",
    "\n",
    "from packages.functions import set_env_variables, instantiate_llm\n",
    "\n",
    "set_env_variables()"
   ]
  },
  {
   "cell_type": "code",
   "execution_count": 8,
   "metadata": {},
   "outputs": [],
   "source": [
    "llm = instantiate_llm(model_name=\"gpt-3.5-turbo\")"
   ]
  },
  {
   "cell_type": "code",
   "execution_count": 9,
   "metadata": {},
   "outputs": [
    {
     "data": {
      "text/plain": [
       "4910"
      ]
     },
     "execution_count": 9,
     "metadata": {},
     "output_type": "execute_result"
    }
   ],
   "source": [
    "with open('../section-02/files/winston_churcill_speech.txt', encoding='utf-8') as f:\n",
    "    text = f.read()\n",
    "\n",
    "llm.get_num_tokens(text)"
   ]
  },
  {
   "cell_type": "code",
   "execution_count": 17,
   "metadata": {},
   "outputs": [
    {
     "data": {
      "text/plain": [
       "2"
      ]
     },
     "execution_count": 17,
     "metadata": {},
     "output_type": "execute_result"
    }
   ],
   "source": [
    "text_splitter = RecursiveCharacterTextSplitter(chunk_size=12000, chunk_overlap=50)\n",
    "chunks = text_splitter.create_documents([text])\n",
    "\n",
    "len(chunks)\n"
   ]
  },
  {
   "cell_type": "code",
   "execution_count": 11,
   "metadata": {},
   "outputs": [
    {
     "name": "stderr",
     "output_type": "stream",
     "text": [
      "Retrying langchain.chat_models.openai.ChatOpenAI.completion_with_retry.<locals>._completion_with_retry in 4.0 seconds as it raised RateLimitError: Rate limit reached for gpt-3.5-turbo in organization org-va3LEBvnLYt8QWkUrWq6m1TC on requests per min (RPM): Limit 3, Used 3, Requested 1. Please try again in 20s. Visit https://platform.openai.com/account/rate-limits to learn more. You can increase your rate limit by adding a payment method to your account at https://platform.openai.com/account/billing..\n"
     ]
    }
   ],
   "source": [
    "chain = load_summarize_chain(\n",
    "    llm,\n",
    "    chain_type=\"map_reduce\",\n",
    "    verbose=False\n",
    ")\n",
    "\n",
    "output = chain.run(chunks)"
   ]
  },
  {
   "cell_type": "code",
   "execution_count": 12,
   "metadata": {},
   "outputs": [
    {
     "name": "stdout",
     "output_type": "stream",
     "text": [
      "This passage describes the successful evacuation of British and French troops from the beaches of France and Belgium during World War II, with the assistance of the Royal Air Force and Navy. The author emphasizes the need for defense against potential invasion and the determination to continue the fight against tyranny. The passage also mentions the losses suffered by the British Army and the measures being taken to strengthen defenses.\n"
     ]
    }
   ],
   "source": [
    "print(output)"
   ]
  },
  {
   "cell_type": "markdown",
   "metadata": {},
   "source": [
    "This passage describes the successful evacuation of British and French troops from the beaches of France and Belgium during World War II, with the assistance of the Royal Air Force and Navy. The author emphasizes the need for defense against potential invasion and the determination to continue the fight against tyranny. The passage also mentions the losses suffered by the British Army and the measures being taken to strengthen defenses."
   ]
  },
  {
   "cell_type": "markdown",
   "metadata": {},
   "source": [
    "## map_reduce with Custom Prompts"
   ]
  },
  {
   "cell_type": "code",
   "execution_count": 18,
   "metadata": {},
   "outputs": [],
   "source": [
    "map_prompt = \"\"\"\n",
    "    Write a short and concise summary of the following:\n",
    "    Text: `{text}`\n",
    "    CONCISE SUMMARY:\n",
    "\"\"\"\n",
    "\n",
    "map_prompt_template = PromptTemplate(\n",
    "    input_variables=[\"text\"],\n",
    "    template=map_prompt\n",
    ")"
   ]
  },
  {
   "cell_type": "code",
   "execution_count": 19,
   "metadata": {},
   "outputs": [],
   "source": [
    "combine_prompt = \"\"\"\n",
    "    Write a concise summary of the following text that covers the key points.\n",
    "    Add a title to the summary.\n",
    "    Start your summary with an INTRODUCTION PARAGRAPH that gives an overview of the topic FOLLOWED by BULLET POINTS if possible AND end the summary with a CONCLUSION PHRASE.\n",
    "    Text: `{text}`\n",
    "\"\"\"\n",
    "\n",
    "combine_prompt_template = PromptTemplate(\n",
    "    input_variables=[\"text\"],\n",
    "    template=combine_prompt\n",
    ")"
   ]
  },
  {
   "cell_type": "code",
   "execution_count": 20,
   "metadata": {},
   "outputs": [],
   "source": [
    "summary_chain = load_summarize_chain(\n",
    "    llm=llm,\n",
    "    chain_type=\"map_reduce\",\n",
    "    map_prompt=map_prompt_template,\n",
    "    combine_prompt=combine_prompt_template,\n",
    "    verbose=False\n",
    ")\n",
    "\n",
    "output = summary_chain.run(chunks)"
   ]
  },
  {
   "cell_type": "code",
   "execution_count": 21,
   "metadata": {},
   "outputs": [
    {
     "name": "stdout",
     "output_type": "stream",
     "text": [
      "Title: The Evacuation of Dunkirk and Churchill's Speech\n",
      "\n",
      "Introduction:\n",
      "This text discusses the evacuation of British and Allied troops from Dunkirk during World War II, known as Operation Dynamo. It highlights the challenges faced by the British forces and the crucial role played by the Royal Navy and Royal Air Force in the successful evacuation.\n",
      "\n",
      "Key Points:\n",
      "- Operation Dynamo began on May 26, evacuating over 338,000 Allied troops, including 26,000 French soldiers, to England.\n",
      "- The British Royal Air Force fought against heavy attacks to deny the enemy total air supremacy.\n",
      "- The surrender of the Belgian Army and the heroic defense of Boulogne and Calais are mentioned.\n",
      "- The Royal Navy and merchant seamen played a crucial role in the evacuation.\n",
      "- The evacuation showcased the achievements of the British Air Force, despite not being a victory.\n",
      "\n",
      "Conclusion:\n",
      "Winston Churchill's speech acknowledges the challenges faced by the British Army and emphasizes the need to strengthen defenses and rebuild the British Expeditionary Force. He expresses confidence in the ability to defend the country and vows to fight until the end. Churchill highlights the importance of the British Empire and the alliance with France in the fight against tyranny.\n"
     ]
    }
   ],
   "source": [
    "print(output)"
   ]
  }
 ],
 "metadata": {
  "kernelspec": {
   "display_name": "env_llm_apps",
   "language": "python",
   "name": "python3"
  },
  "language_info": {
   "codemirror_mode": {
    "name": "ipython",
    "version": 3
   },
   "file_extension": ".py",
   "mimetype": "text/x-python",
   "name": "python",
   "nbconvert_exporter": "python",
   "pygments_lexer": "ipython3",
   "version": "3.10.13"
  }
 },
 "nbformat": 4,
 "nbformat_minor": 2
}
