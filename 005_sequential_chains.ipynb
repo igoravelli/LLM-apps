{
 "cells": [
  {
   "cell_type": "code",
   "execution_count": 1,
   "metadata": {},
   "outputs": [],
   "source": [
    "from langchain.chat_models import ChatOpenAI\n",
    "from langchain.llms import OpenAI\n",
    "from langchain import PromptTemplate\n",
    "from langchain.chains import LLMChain, SimpleSequentialChain"
   ]
  },
  {
   "cell_type": "code",
   "execution_count": 3,
   "metadata": {},
   "outputs": [
    {
     "name": "stdout",
     "output_type": "stream",
     "text": [
      "\n",
      "\n",
      "\u001b[1m> Entering new SimpleSequentialChain chain...\u001b[0m\n",
      "\u001b[36;1m\u001b[1;3m\n",
      "\n",
      "def linearRegression(x, y):\n",
      "  # Calculate the mean of x and y\n",
      "  x_mean = sum(x) / len(x)\n",
      "  y_mean = sum(y) / len(y)\n",
      "\n",
      "  # Calculate the sum of the squares of x and y\n",
      "  x_squared = sum([i**2 for i in x])\n",
      "  y_squared = sum([i**2 for i in y])\n",
      "\n",
      "  # Calculate the sum of the products of x and y\n",
      "  xy_sum = sum([x[i]*y[i] for i in range(len(x))])\n",
      "\n",
      "  # Calculate the slope\n",
      "  slope = (xy_sum - (len(x) * x_mean * y_mean)) / (x_squared - (len(x) * x_mean * x_mean))\n",
      "\n",
      "  # Calculate the y-intercept\n",
      "  y_intercept = y_mean - (slope * x_mean)\n",
      "\n",
      "  return slope, y_intercept\u001b[0m\n",
      "\u001b[33;1m\u001b[1;3mThe linearRegression function is a Python program that implements the calculation of the slope and y-intercept for a linear regression model. It takes two input arguments: x and y, which should be lists of numeric values of the same length. The function uses the following steps to calculate the slope, y-intercept, and several other intermediate values:\n",
      "\n",
      "1. Calculate the mean of x and y:\n",
      "- The x_mean variable is assigned the value obtained by dividing the sum of all values in x by the length of x.\n",
      "- The y_mean variable is assigned the value obtained by dividing the sum of all values in y by the length of y.\n",
      "\n",
      "2. Calculate the sum of squares of x and y:\n",
      "- The x_squared variable is assigned the sum of the square of each value in x, obtained by applying the exponentiation operator (**) to each value and summing up the results.\n",
      "- The y_squared variable is assigned the sum of the square of each value in y, calculated similarly to x_squared.\n",
      "\n",
      "3. Calculate the sum of products of x and y:\n",
      "- The xy_sum variable is assigned the sum of the product of each value in x with the corresponding value in y.\n",
      "- This is achieved by iterating over the indices of x using the range() function and multiplying the ith value of x with the ith value of y, and summing up the results.\n",
      "\n",
      "4. Calculate the slope:\n",
      "- The slope variable is assigned the value obtained by subtracting the product of the length of x, x_mean, and y_mean from xy_sum, and then dividing the result by the difference between x_squared and the product of the length of x and x_mean squared.\n",
      "- This calculation follows the linear regression formula to find the slope of the regression line, which represents the relationship between x and y.\n",
      "\n",
      "5. Calculate the y-intercept:\n",
      "- The y_intercept variable is assigned the value obtained by subtracting the product of slope and x_mean from y_mean.\n",
      "- This calculation determines where the regression line crosses the y-axis when x is equal to zero.\n",
      "\n",
      "6. Return the results:\n",
      "- The function returns three values: slope, y_intercept, and their detailed description.\n",
      "- The slope represents the change in y divided by the change in x and can vary from negative infinity to positive infinity.\n",
      "- The y_intercept represents the point where the regression line crosses the y-axis.\n",
      "- The descriptive explanation provides additional context for the meaning of the returned values.\u001b[0m\n",
      "\n",
      "\u001b[1m> Finished chain.\u001b[0m\n"
     ]
    }
   ],
   "source": [
    "llm1 = OpenAI(model_name='text-davinci-003', temperature=0.7, max_tokens=1024)\n",
    "prompt1 = PromptTemplate(\n",
    "    input_variables=['concept'],\n",
    "    template=''' You are a enperienced scientist and Python programmer.\n",
    "    Write a function that implements the concept of {concept}.'''\n",
    ")\n",
    "chain1 = LLMChain(llm=llm1, prompt=prompt1)\n",
    "\n",
    "llm2 = ChatOpenAI(model_name='gpt-3.5-turbo', temperature=1.2)\n",
    "prompt2 = PromptTemplate(\n",
    "    input_variables=['function'],\n",
    "    template='''Given the Python function {function}, describe it as detailed as possible.'''\n",
    ")\n",
    "chain2 = LLMChain(llm=llm2, prompt=prompt2)\n",
    "\n",
    "overall_chain = SimpleSequentialChain(chains=[chain1, chain2], verbose=True)\n",
    "output = overall_chain.run('linear regression')"
   ]
  }
 ],
 "metadata": {
  "kernelspec": {
   "display_name": "env_llm_apps",
   "language": "python",
   "name": "python3"
  },
  "language_info": {
   "codemirror_mode": {
    "name": "ipython",
    "version": 3
   },
   "file_extension": ".py",
   "mimetype": "text/x-python",
   "name": "python",
   "nbconvert_exporter": "python",
   "pygments_lexer": "ipython3",
   "version": "3.10.13"
  }
 },
 "nbformat": 4,
 "nbformat_minor": 2
}
