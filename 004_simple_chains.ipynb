{
 "cells": [
  {
   "cell_type": "code",
   "execution_count": 1,
   "metadata": {},
   "outputs": [],
   "source": [
    "from langchain.chat_models import ChatOpenAI\n",
    "from langchain import PromptTemplate\n",
    "from langchain.chains import LLMChain\n",
    "\n",
    "llm = ChatOpenAI(model_name='gpt-3.5-turbo', temperature=0.5)\n",
    "template = '''\n",
    "    You are an experienced virologist.\n",
    "    Write a few sentences about the following {virus} in {language}.\n",
    "'''\n",
    "\n",
    "prompt = PromptTemplate(\n",
    "    input_variables=['virus', 'language'],\n",
    "    template=template\n",
    ")\n",
    "\n",
    "chain = LLMChain(llm=llm, prompt=prompt)\n",
    "output = chain.run({'virus': 'HSV', 'language': 'portuguese'})"
   ]
  },
  {
   "cell_type": "code",
   "execution_count": 4,
   "metadata": {},
   "outputs": [
    {
     "name": "stdout",
     "output_type": "stream",
     "text": [
      "O HSV, ou vírus do herpes simples, é um vírus altamente contagioso que causa uma variedade de doenças em humanos. Existem dois tipos principais de HSV: o HSV-1, que geralmente causa lesões orais, como herpes labial, e o HSV-2, que é responsável pela maioria dos casos de herpes genital. Ambos os tipos de HSV podem ser transmitidos através do contato direto com as lesões ativas ou através de contato íntimo, como relações sexuais. Embora não haja cura para o HSV, existem medicamentos antivirais disponíveis para controlar os sintomas e reduzir a frequência e gravidade das recorrências. É importante praticar medidas de prevenção, como o uso de preservativos e evitar o contato direto com lesões ativas, para minimizar a propagação do HSV.\n"
     ]
    }
   ],
   "source": [
    "print(output, end='')"
   ]
  }
 ],
 "metadata": {
  "kernelspec": {
   "display_name": "env_llm_apps",
   "language": "python",
   "name": "python3"
  },
  "language_info": {
   "codemirror_mode": {
    "name": "ipython",
    "version": 3
   },
   "file_extension": ".py",
   "mimetype": "text/x-python",
   "name": "python",
   "nbconvert_exporter": "python",
   "pygments_lexer": "ipython3",
   "version": "3.10.13"
  }
 },
 "nbformat": 4,
 "nbformat_minor": 2
}
