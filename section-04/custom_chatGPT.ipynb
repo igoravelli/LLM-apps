{
 "cells": [
  {
   "cell_type": "code",
   "execution_count": 5,
   "metadata": {},
   "outputs": [
    {
     "name": "stdout",
     "output_type": "stream",
     "text": [
      "ChatGPT: Paris is located in the continent of Europe.\n",
      "--------------------------------------------------\n",
      "ChatGPT: Goodbye!\n"
     ]
    }
   ],
   "source": [
    "from langchain.chat_models import ChatOpenAI\n",
    "from langchain.schema import SystemMessage\n",
    "from langchain.chains import LLMChain\n",
    "from langchain.prompts import ChatPromptTemplate, HumanMessagePromptTemplate, MessagesPlaceholder\n",
    "from langchain.memory import ConversationBufferMemory, FileChatMessageHistory\n",
    "\n",
    "\n",
    "llm = ChatOpenAI(model_name = 'gpt-3.5-turbo', temperature=0)\n",
    "\n",
    "history = FileChatMessageHistory('chat_history.json')\n",
    "memory = ConversationBufferMemory(\n",
    "    memory_key = 'chat_history',\n",
    "    chat_memory = history,\n",
    "    return_messages = True\n",
    ")\n",
    "\n",
    "prompt = ChatPromptTemplate(\n",
    "    input_variables = ['content'],\n",
    "    messages = [\n",
    "        SystemMessage(content = 'You are chatbot having a conversation with a human.'),\n",
    "        MessagesPlaceholder(variable_name = 'chat_history'),\n",
    "        HumanMessagePromptTemplate.from_template('{content}')\n",
    "    ]\n",
    ")\n",
    "\n",
    "chain = LLMChain(\n",
    "    llm = llm, \n",
    "    prompt = prompt,\n",
    "    memory = memory,\n",
    "    verbose = False\n",
    ")\n",
    "\n",
    "\n",
    "\n",
    "while True:\n",
    "    content = input('Your prompt: ')\n",
    "    if content in ['exit', 'quit', 'bye']:\n",
    "        print('ChatGPT: Goodbye!')\n",
    "        break\n",
    "\n",
    "    response = chain.run({'content': content})\n",
    "    print('ChatGPT:', response)\n",
    "    print('-' * 50)"
   ]
  },
  {
   "cell_type": "code",
   "execution_count": null,
   "metadata": {},
   "outputs": [],
   "source": []
  }
 ],
 "metadata": {
  "kernelspec": {
   "display_name": "env_llm_apps",
   "language": "python",
   "name": "python3"
  },
  "language_info": {
   "codemirror_mode": {
    "name": "ipython",
    "version": 3
   },
   "file_extension": ".py",
   "mimetype": "text/x-python",
   "name": "python",
   "nbconvert_exporter": "python",
   "pygments_lexer": "ipython3",
   "version": "3.10.13"
  }
 },
 "nbformat": 4,
 "nbformat_minor": 2
}
